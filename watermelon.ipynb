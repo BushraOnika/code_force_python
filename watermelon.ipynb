{
 "cells": [
  {
   "cell_type": "code",
   "id": "initial_id",
   "metadata": {
    "collapsed": true,
    "ExecuteTime": {
     "end_time": "2025-03-14T08:31:36.076241Z",
     "start_time": "2025-03-14T08:31:36.073734Z"
    }
   },
   "source": [
    "mul = .01\n",
    "total = 1;"
   ],
   "outputs": [],
   "execution_count": 24
  },
  {
   "metadata": {
    "ExecuteTime": {
     "end_time": "2025-03-14T08:31:36.234124Z",
     "start_time": "2025-03-14T08:31:36.232109Z"
    }
   },
   "cell_type": "code",
   "source": [
    "base = 1\n",
    "for _ in range(365):\n",
    "    total *= (mul + base)\n"
   ],
   "id": "263601e7bf6a5f2",
   "outputs": [],
   "execution_count": 25
  },
  {
   "metadata": {
    "ExecuteTime": {
     "end_time": "2025-03-14T08:31:36.358955Z",
     "start_time": "2025-03-14T08:31:36.355447Z"
    }
   },
   "cell_type": "code",
   "source": "total",
   "id": "db05ad6ad09789fd",
   "outputs": [
    {
     "data": {
      "text/plain": [
       "37.783434332887275"
      ]
     },
     "execution_count": 26,
     "metadata": {},
     "output_type": "execute_result"
    }
   ],
   "execution_count": 26
  },
  {
   "metadata": {},
   "cell_type": "code",
   "outputs": [],
   "execution_count": null,
   "source": "",
   "id": "8428727d1df1ddd2"
  }
 ],
 "metadata": {
  "kernelspec": {
   "display_name": "Python 3",
   "language": "python",
   "name": "python3"
  },
  "language_info": {
   "codemirror_mode": {
    "name": "ipython",
    "version": 2
   },
   "file_extension": ".py",
   "mimetype": "text/x-python",
   "name": "python",
   "nbconvert_exporter": "python",
   "pygments_lexer": "ipython2",
   "version": "2.7.6"
  }
 },
 "nbformat": 4,
 "nbformat_minor": 5
}
